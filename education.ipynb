{
  "cells": [
    {
      "cell_type": "code",
      "execution_count": null,
      "metadata": {
        "id": "oOyWktCV3I3q"
      },
      "outputs": [
        {
          "ename": "",
          "evalue": "",
          "output_type": "error",
          "traceback": [
            "\u001b[1;31mRunning cells with '/usr/bin/python3' requires the ipykernel package.\n",
            "\u001b[1;31mRun the following command to install 'ipykernel' into the Python environment. \n",
            "\u001b[1;31mCommand: '/usr/bin/python3 -m pip install ipykernel -U --user --force-reinstall'"
          ]
        }
      ],
      "source": [
        "import pandas as pd\n",
        "import matplotlib.pyplot as plt\n",
        "import seaborn as sns\n",
        "from sklearn.preprocessing import StandardScaler\n",
        "from sklearn.cluster import KMeans"
      ]
    },
    {
      "cell_type": "code",
      "execution_count": null,
      "metadata": {
        "id": "yUxim9Lk3Tmc"
      },
      "outputs": [],
      "source": [
        "df = pd.read_csv(r'/content/education_level_region.csv')"
      ]
    },
    {
      "cell_type": "code",
      "execution_count": null,
      "metadata": {
        "colab": {
          "base_uri": "https://localhost:8080/",
          "height": 300
        },
        "id": "XvozS-Ja8vIk",
        "outputId": "48be497f-210e-468a-8fdb-abf6266b2fa2"
      },
      "outputs": [],
      "source": [
        "df.describe()"
      ]
    },
    {
      "cell_type": "markdown",
      "metadata": {
        "id": "u0DQuQYYEeXL"
      },
      "source": [
        "# Mean Calculation"
      ]
    },
    {
      "cell_type": "code",
      "execution_count": null,
      "metadata": {
        "colab": {
          "base_uri": "https://localhost:8080/"
        },
        "id": "RNrJAvORDvdp",
        "outputId": "0adb5228-759a-4008-db6b-b71618e9efc9"
      },
      "outputs": [],
      "source": [
        "# Calculating Mean\n",
        "\n",
        "# Filter the data for each state and calculate the mean for each education category\n",
        "for state in df['Geography'].unique():\n",
        "    state_data = df[df['Geography'] == state]\n",
        "\n",
        "    # Calculate mean for each education category\n",
        "    below_secondary_mean = state_data[state_data['Educational attainment level'] == 'Below upper secondary 7'].iloc[:, 2:].mean(numeric_only=True).mean()\n",
        "    post_secondary_mean = state_data[state_data['Educational attainment level'] == 'Upper secondary and post-secondary non-tertiary'].iloc[:, 2:].mean(numeric_only=True).mean()\n",
        "    tertiary_mean = state_data[state_data['Educational attainment level'] == 'Tertiary education'].iloc[:, 2:].mean(numeric_only=True).mean()\n",
        "\n",
        "    # Print mean for each education category\n",
        "    print(f\"Mean for {state}:\")\n",
        "    print(f\"Below Upper Secondary 7: {below_secondary_mean:.2f}%\")\n",
        "    print(f\"Upper Secondary and Post-Secondary Non-Tertiary: {post_secondary_mean:.2f}%\")\n",
        "    print(f\"Tertiary Education: {tertiary_mean:.2f}%\")\n",
        "    print()"
      ]
    },
    {
      "cell_type": "code",
      "execution_count": null,
      "metadata": {
        "colab": {
          "base_uri": "https://localhost:8080/",
          "height": 1000
        },
        "id": "_1OqIp-fD1Ry",
        "outputId": "13359aab-c056-4f03-bbe2-23e0f93623e8"
      },
      "outputs": [],
      "source": [
        "# Plotting Sub Plots for mean data\n",
        "\n",
        "# Get unique states\n",
        "states = df['Geography'].unique()\n",
        "\n",
        "# Calculate the number of rows and columns for subplots\n",
        "num_states = len(states)\n",
        "num_cols = 3  # Define the number of columns\n",
        "num_rows = -(-num_states // num_cols)  # Calculate the number of rows required\n",
        "\n",
        "# Create a figure and axis object\n",
        "fig, axs = plt.subplots(num_rows, num_cols, figsize=(15, 5*num_rows))\n",
        "\n",
        "# Flatten the axis array to iterate over it easily\n",
        "axs = axs.flatten()\n",
        "\n",
        "# Initialize handles and labels for legend\n",
        "handles, labels = None, None\n",
        "\n",
        "# Filter the data for each state and plot mean data\n",
        "for i, state in enumerate(states):\n",
        "    state_data = df[df['Geography'] == state]\n",
        "\n",
        "    # Calculate mean for each education category\n",
        "    below_secondary_mean = state_data[state_data['Educational attainment level'] == 'Below upper secondary 7'].iloc[:, 2:].mean(numeric_only=True)\n",
        "    post_secondary_mean = state_data[state_data['Educational attainment level'] == 'Upper secondary and post-secondary non-tertiary'].iloc[:, 2:].mean(numeric_only=True)\n",
        "    tertiary_mean = state_data[state_data['Educational attainment level'] == 'Tertiary education'].iloc[:, 2:].mean(numeric_only=True)\n",
        "\n",
        "    # Plot mean data on corresponding axis\n",
        "    axs[i].plot(below_secondary_mean.index, below_secondary_mean.values, label='Below Upper Secondary 7')\n",
        "    axs[i].plot(post_secondary_mean.index, post_secondary_mean.values, label='Upper Secondary and Post-Secondary Non-Tertiary')\n",
        "    axs[i].plot(tertiary_mean.index, tertiary_mean.values, label='Tertiary Education')\n",
        "\n",
        "    # Set title and labels\n",
        "    axs[i].set_title(state)\n",
        "    axs[i].set_xlabel(\"Year\")\n",
        "    axs[i].set_ylabel(\"Mean Percentage\")\n",
        "    axs[i].grid(True)\n",
        "\n",
        "# Get handles and labels from the last subplot\n",
        "handles, labels = axs[i].get_legend_handles_labels()\n",
        "\n",
        "# Add a common legend outside of subplots\n",
        "fig.legend(handles, labels, loc='upper right')\n",
        "\n",
        "# Remove extra empty subplots\n",
        "if num_states < num_rows * num_cols:\n",
        "    for j in range(num_states, num_rows * num_cols):\n",
        "        fig.delaxes(axs[j])\n",
        "\n",
        "# Adjust layout\n",
        "plt.tight_layout()\n",
        "\n",
        "# Show plot\n",
        "plt.show()\n"
      ]
    },
    {
      "cell_type": "markdown",
      "metadata": {
        "id": "NvMDZqiNL9uh"
      },
      "source": [
        "# Region Wise Graph Plots"
      ]
    },
    {
      "cell_type": "code",
      "execution_count": null,
      "metadata": {
        "colab": {
          "base_uri": "https://localhost:8080/",
          "height": 1000
        },
        "id": "muvzy46YN_KY",
        "outputId": "7f80f317-c626-489f-db69-fe3bb5b738ce"
      },
      "outputs": [],
      "source": [
        "import matplotlib.pyplot as plt\n",
        "\n",
        "# Determine number of rows and columns for subplots\n",
        "num_states = len(df['Geography'].unique())\n",
        "num_cols = 3  # Number of columns for subplots\n",
        "num_rows = (num_states - 1) // num_cols + 1  # Calculate number of rows\n",
        "\n",
        "# Create subplots\n",
        "fig, axs = plt.subplots(num_rows, num_cols, figsize=(15, 5*num_rows))\n",
        "\n",
        "# Flatten axs if it's a 1-dimensional array\n",
        "if num_rows == 1:\n",
        "    axs = [axs]\n",
        "\n",
        "# Initialize a dictionary to store legend handles\n",
        "handles_dict = {}\n",
        "\n",
        "# Iterate through states and plot data\n",
        "for i, state in enumerate(df['Geography'].unique()):\n",
        "    row = i // num_cols\n",
        "    col = i % num_cols\n",
        "    state_data = df[df['Geography'] == state]\n",
        "\n",
        "    # Extract education categories and years' data\n",
        "    categories = ['Below upper secondary 7', 'Upper secondary and post-secondary non-tertiary', 'Tertiary education']\n",
        "    # categories = ['Category 1', 'Category 2', 'Category 3']\n",
        "    years = ['2018', '2019', '2020', '2021', '2022']\n",
        "\n",
        "    # Prepare data for plotting\n",
        "    data = {year: [state_data[state_data['Educational attainment level'] == category][year].values.tolist()[0] if not state_data[state_data['Educational attainment level'] == category][year].empty else None for category in categories] for year in years}\n",
        "\n",
        "    # Plot graph\n",
        "    for year in years:\n",
        "        # Check if all categories have data for this year\n",
        "        if all(data[year]):\n",
        "            line, = axs[row][col].plot(categories, data[year], marker='o', label=year)\n",
        "            handles_dict[year] = line\n",
        "\n",
        "    axs[row][col].set_title(f'{state}')\n",
        "    axs[row][col].set_xlabel('Education Categories', fontsize=10)  # Adjust font size\n",
        "    axs[row][col].set_ylabel('Percentage')\n",
        "    axs[row][col].grid(True)\n",
        "    axs[row][col].tick_params(axis='x', rotation=45)\n",
        "\n",
        "# Adjust layout and display plot\n",
        "plt.tight_layout()\n",
        "\n",
        "# Create a common legend outside the subplots\n",
        "plt.legend(handles=handles_dict.values(), labels=handles_dict.keys(), loc='upper left', bbox_to_anchor=(1, 1))\n",
        "plt.show()\n"
      ]
    },
    {
      "cell_type": "code",
      "execution_count": null,
      "metadata": {
        "id": "IomYNUKJMCXc"
      },
      "outputs": [],
      "source": [
        "def normalGraphs():\n",
        "  # Filter the data for each state and plot the graphs\n",
        "  for state in df['Geography'].unique():\n",
        "      state_data = df[df['Geography'] == state]\n",
        "\n",
        "      # Extract education categories and years' data\n",
        "      categories = ['Below upper secondary 7', 'Upper secondary and post-secondary non-tertiary', 'Tertiary education']\n",
        "      years = ['2018', '2019', '2020', '2021', '2022']\n",
        "\n",
        "      # Prepare data for plotting\n",
        "      data = {year: [state_data[state_data['Educational attainment level'] == category][year].values.tolist()[0] if not state_data[state_data['Educational attainment level'] == category][year].empty else None for category in categories] for year in years}\n",
        "\n",
        "      # Plot graph\n",
        "      plt.figure(figsize=(10, 6))\n",
        "      for year in years:\n",
        "          # Check if all categories have data for this year\n",
        "          if all(data[year]):\n",
        "              plt.plot(categories, data[year], marker='o', label=year)\n",
        "      plt.title(f'Educational Attainment in {state}')\n",
        "      plt.xlabel('Education Categories')\n",
        "      plt.ylabel('Percentage')\n",
        "      plt.legend()\n",
        "      plt.grid(True)\n",
        "      plt.xticks(rotation=45)\n",
        "      plt.tight_layout()\n",
        "      plt.show()\n"
      ]
    },
    {
      "cell_type": "code",
      "execution_count": null,
      "metadata": {
        "id": "7HCmgb3xMQah"
      },
      "outputs": [],
      "source": [
        "import plotly.graph_objs as go\n",
        "\n",
        "def interactiveGraphs():\n",
        "  # Filter the data for each state and plot the graphs\n",
        "  for state in df['Geography'].unique():\n",
        "      state_data = df[df['Geography'] == state]\n",
        "\n",
        "      # Extract education categories and years' data\n",
        "      categories = ['Below upper secondary 7', 'Upper secondary and post-secondary non-tertiary', 'Tertiary education']\n",
        "      years = ['2018', '2019', '2020', '2021', '2022']\n",
        "\n",
        "      # Prepare data for plotting\n",
        "      data = {year: [state_data[state_data['Educational attainment level'] == category][year].values.tolist()[0] if not state_data[state_data['Educational attainment level'] == category][year].empty else None for category in categories] for year in years}\n",
        "\n",
        "      # Create traces for each year\n",
        "      traces = []\n",
        "      for year in years:\n",
        "          # Check if all categories have data for this year\n",
        "          if all(data[year]):\n",
        "              trace = go.Scatter(x=categories, y=data[year], mode='lines+markers', name=year)\n",
        "              traces.append(trace)\n",
        "\n",
        "      # Create layout\n",
        "      layout = go.Layout(\n",
        "          title=f'Educational Attainment in {state}',\n",
        "          xaxis=dict(title='Education Categories'),\n",
        "          yaxis=dict(title='Percentage'),\n",
        "          legend=dict(orientation='h', x=0.1, y=-0.2)\n",
        "      )\n",
        "\n",
        "      # Create figure\n",
        "      fig = go.Figure(data=traces, layout=layout)\n",
        "\n",
        "      # Show interactive plot\n",
        "      fig.show()\n"
      ]
    },
    {
      "cell_type": "code",
      "execution_count": null,
      "metadata": {
        "colab": {
          "base_uri": "https://localhost:8080/",
          "height": 1000
        },
        "id": "pMbl805fMVed",
        "outputId": "d519025a-b590-49c5-b284-da9e32170ed1"
      },
      "outputs": [],
      "source": [
        "# Call Functions\n",
        "# normalGraphs()\n",
        "interactiveGraphs()"
      ]
    },
    {
      "cell_type": "markdown",
      "metadata": {
        "id": "ODOKSZUbJKnF"
      },
      "source": [
        "# Correlation Analysis"
      ]
    },
    {
      "cell_type": "code",
      "execution_count": null,
      "metadata": {
        "colab": {
          "base_uri": "https://localhost:8080/"
        },
        "id": "fAtXBBDxJSb_",
        "outputId": "23112e49-885a-4a42-d3ee-07254548b73c"
      },
      "outputs": [],
      "source": [
        "# Calculate the correlation matrix with numeric_only set to True\n",
        "correlation_matrix = df.corr(numeric_only=True)\n",
        "\n",
        "# Print the correlation matrix\n",
        "print(correlation_matrix)"
      ]
    },
    {
      "cell_type": "code",
      "execution_count": null,
      "metadata": {
        "colab": {
          "base_uri": "https://localhost:8080/",
          "height": 699
        },
        "id": "FKJftG9pJjFk",
        "outputId": "8382ddfa-087f-4c8d-e6cd-884964693917"
      },
      "outputs": [],
      "source": [
        "# Plot correlation matrix as a heatmap\n",
        "plt.figure(figsize=(10, 8))\n",
        "sns.heatmap(correlation_matrix, annot=True, cmap='coolwarm', fmt=\".2f\")\n",
        "plt.title('Correlation Matrix')\n",
        "plt.show()"
      ]
    },
    {
      "cell_type": "markdown",
      "metadata": {
        "id": "CJAS203uK79T"
      },
      "source": [
        "# Time Series Analysis"
      ]
    },
    {
      "cell_type": "code",
      "execution_count": null,
      "metadata": {
        "colab": {
          "base_uri": "https://localhost:8080/",
          "height": 542
        },
        "id": "6q_ovfdhLBlS",
        "outputId": "4580309a-9565-4944-d9a8-471b4bf90ad4"
      },
      "outputs": [],
      "source": [
        "import plotly.express as px\n",
        "\n",
        "# Transpose the DataFrame for plotting\n",
        "df_transposed = df.T.reset_index()\n",
        "\n",
        "# Melt the DataFrame to have 'Year' and 'Percentage' as columns\n",
        "df_melted = df_transposed.melt(id_vars=['index'], var_name='Geography', value_name='Percentage')\n",
        "\n",
        "# Plot the data using Plotly Express\n",
        "fig = px.line(df_melted, x='index', y='Percentage', color='Geography',\n",
        "              labels={'index': 'Year', 'Percentage': 'Percentage', 'Geography': 'Geography'},\n",
        "              title='Educational Attainment Trends Over Time')\n",
        "\n",
        "# Make the plot interactive\n",
        "fig.update_traces(hoverinfo='text+name', mode='lines+markers')\n",
        "fig.update_layout(hovermode='x')\n",
        "fig.show()"
      ]
    },
    {
      "cell_type": "markdown",
      "metadata": {
        "id": "AUh2uOs5J4vn"
      },
      "source": [
        "# Clustering"
      ]
    },
    {
      "cell_type": "code",
      "execution_count": null,
      "metadata": {
        "colab": {
          "base_uri": "https://localhost:8080/",
          "height": 564
        },
        "id": "Dw0oN-kHJ7U1",
        "outputId": "71003b5e-7984-42fb-bb29-6d727e433027"
      },
      "outputs": [],
      "source": [
        "import pandas as pd\n",
        "from sklearn.preprocessing import StandardScaler\n",
        "from sklearn.cluster import KMeans\n",
        "import matplotlib.pyplot as plt\n",
        "\n",
        "# Pivot the data to have states as rows and years as columns\n",
        "pivot_data = df.pivot(index='Geography', columns='Educational attainment level')\n",
        "\n",
        "# Drop multi-level index for simplicity\n",
        "pivot_data.columns = ['_'.join(col).strip() for col in pivot_data.columns.values]\n",
        "\n",
        "# Select only the columns containing years (2018, 2019, etc.)\n",
        "year_columns = [col for col in pivot_data.columns if col.split('_')[0].isdigit()]\n",
        "\n",
        "# Select data for clustering\n",
        "X = pivot_data[year_columns]\n",
        "\n",
        "# Normalize the data\n",
        "scaler = StandardScaler()\n",
        "X_scaled = scaler.fit_transform(X)\n",
        "\n",
        "# Choose the number of clusters (you may need to experiment)\n",
        "num_clusters = 3\n",
        "\n",
        "# Apply K-means clustering\n",
        "kmeans = KMeans(n_clusters=num_clusters,n_init=10, random_state=42)\n",
        "cluster_labels = kmeans.fit_predict(X_scaled)\n",
        "\n",
        "# Add cluster labels to the original data\n",
        "pivot_data['Cluster'] = cluster_labels\n",
        "\n",
        "# Visualize the clusters with state labels\n",
        "plt.figure(figsize=(10, 6))\n",
        "plt.scatter(X_scaled[:, 0], X_scaled[:, 1], c=cluster_labels, cmap='viridis')\n",
        "plt.xlabel('Principal Component 1')\n",
        "plt.ylabel('Principal Component 2')\n",
        "plt.title('Clustering of States based on Education Statistics')\n",
        "\n",
        "# Annotate points with state names\n",
        "for i, state in enumerate(pivot_data.index):\n",
        "    plt.annotate(state, (X_scaled[i, 0], X_scaled[i, 1]))\n",
        "\n",
        "plt.show()"
      ]
    }
  ],
  "metadata": {
    "colab": {
      "provenance": [],
      "toc_visible": true
    },
    "kernelspec": {
      "display_name": "Python 3",
      "name": "python3"
    },
    "language_info": {
      "name": "python",
      "version": "3.9.6"
    }
  },
  "nbformat": 4,
  "nbformat_minor": 0
}
