{
  "cells": [
    {
      "cell_type": "code",
      "execution_count": 22,
      "metadata": {
        "id": "2sHiJtsqTmEG"
      },
      "outputs": [],
      "source": [
        "import numpy as np\n",
        "import pandas as pd\n",
        "import matplotlib.pyplot as plt\n",
        "import seaborn as sns\n",
        "import scipy.stats as stats\n",
        "import plotly.graph_objects as go"
      ]
    },
    {
      "cell_type": "code",
      "execution_count": 23,
      "metadata": {
        "id": "EK9Pw09qTvYl"
      },
      "outputs": [],
      "source": [
        "from datetime import datetime"
      ]
    },
    {
      "cell_type": "code",
      "execution_count": 24,
      "metadata": {
        "id": "iSYiM4gfTx7C"
      },
      "outputs": [],
      "source": [
        "df1 = pd.read_csv(\"/Users/yashpatel/Downloads/Edu-Mavericks/content/labour-market-report-chart-1-Emplyment in Ontario june 23.csv\")\n",
        "df2 = pd.read_csv(\"/Users/yashpatel/Downloads/Edu-Mavericks/content/labour-market-report-chart-2-Industries with highest and lowest emp change jun 23.csv\")\n",
        "df3 = pd.read_csv(\"/Users/yashpatel/Downloads/Edu-Mavericks/content/labour-market-report-chart-3-employment change in ontario june 23.csv\")\n",
        "df5 = pd.read_csv(\"/Users/yashpatel/Downloads/Edu-Mavericks/content/labour-market-report-chart-5-unemployment rates.csv\")\n",
        "df8 = pd.read_csv(\"/Users/yashpatel/Downloads/Edu-Mavericks/content/labour-market-report-chart-8- change in wage rate and CPI june 23.csv\")\n"
      ]
    },
    {
      "cell_type": "code",
      "execution_count": 25,
      "metadata": {
        "colab": {
          "base_uri": "https://localhost:8080/",
          "height": 362
        },
        "id": "JA9UE6meUIn8",
        "outputId": "1542d492-2358-46a8-ad0d-40e930bba990"
      },
      "outputs": [
        {
          "name": "stdout",
          "output_type": "stream",
          "text": [
            "<class 'pandas.core.frame.DataFrame'>\n",
            "RangeIndex: 222 entries, 0 to 221\n",
            "Data columns (total 2 columns):\n",
            " #   Column                                             Non-Null Count  Dtype  \n",
            "---  ------                                             --------------  -----  \n",
            " 0   Date                                               222 non-null    object \n",
            " 1   Ontario employment (x 1,000), seasonally adjusted  222 non-null    float64\n",
            "dtypes: float64(1), object(1)\n",
            "memory usage: 3.6+ KB\n"
          ]
        },
        {
          "data": {
            "text/html": [
              "<div>\n",
              "<style scoped>\n",
              "    .dataframe tbody tr th:only-of-type {\n",
              "        vertical-align: middle;\n",
              "    }\n",
              "\n",
              "    .dataframe tbody tr th {\n",
              "        vertical-align: top;\n",
              "    }\n",
              "\n",
              "    .dataframe thead th {\n",
              "        text-align: right;\n",
              "    }\n",
              "</style>\n",
              "<table border=\"1\" class=\"dataframe\">\n",
              "  <thead>\n",
              "    <tr style=\"text-align: right;\">\n",
              "      <th></th>\n",
              "      <th>Date</th>\n",
              "      <th>Ontario employment (x 1,000), seasonally adjusted</th>\n",
              "    </tr>\n",
              "  </thead>\n",
              "  <tbody>\n",
              "    <tr>\n",
              "      <th>0</th>\n",
              "      <td>01-01-2005</td>\n",
              "      <td>6330.9</td>\n",
              "    </tr>\n",
              "    <tr>\n",
              "      <th>1</th>\n",
              "      <td>02-01-2005</td>\n",
              "      <td>6348.8</td>\n",
              "    </tr>\n",
              "    <tr>\n",
              "      <th>2</th>\n",
              "      <td>03-01-2005</td>\n",
              "      <td>6348.4</td>\n",
              "    </tr>\n",
              "    <tr>\n",
              "      <th>3</th>\n",
              "      <td>04-01-2005</td>\n",
              "      <td>6364.2</td>\n",
              "    </tr>\n",
              "    <tr>\n",
              "      <th>4</th>\n",
              "      <td>05-01-2005</td>\n",
              "      <td>6387.2</td>\n",
              "    </tr>\n",
              "  </tbody>\n",
              "</table>\n",
              "</div>"
            ],
            "text/plain": [
              "         Date  Ontario employment (x 1,000), seasonally adjusted\n",
              "0  01-01-2005                                             6330.9\n",
              "1  02-01-2005                                             6348.8\n",
              "2  03-01-2005                                             6348.4\n",
              "3  04-01-2005                                             6364.2\n",
              "4  05-01-2005                                             6387.2"
            ]
          },
          "execution_count": 25,
          "metadata": {},
          "output_type": "execute_result"
        }
      ],
      "source": [
        "df1.info()\n",
        "df1.head()\n"
      ]
    },
    {
      "cell_type": "code",
      "execution_count": 26,
      "metadata": {
        "colab": {
          "base_uri": "https://localhost:8080/",
          "height": 542
        },
        "id": "LhBBjrFoqwA1",
        "outputId": "a2f80e32-58e0-4ec6-e2b4-c36c63d69eb0"
      },
      "outputs": [
        {
          "ename": "ValueError",
          "evalue": "Mime type rendering requires nbformat>=4.2.0 but it is not installed",
          "output_type": "error",
          "traceback": [
            "\u001b[0;31m---------------------------------------------------------------------------\u001b[0m",
            "\u001b[0;31mValueError\u001b[0m                                Traceback (most recent call last)",
            "Cell \u001b[0;32mIn[26], line 22\u001b[0m\n\u001b[1;32m     13\u001b[0m fig\u001b[38;5;241m.\u001b[39mupdate_layout(title\u001b[38;5;241m=\u001b[39m\u001b[38;5;124m'\u001b[39m\u001b[38;5;124mOntario Employment Trend\u001b[39m\u001b[38;5;124m'\u001b[39m,\n\u001b[1;32m     14\u001b[0m                   xaxis_title\u001b[38;5;241m=\u001b[39m\u001b[38;5;124m'\u001b[39m\u001b[38;5;124mDate\u001b[39m\u001b[38;5;124m'\u001b[39m,\n\u001b[1;32m     15\u001b[0m                   yaxis_title\u001b[38;5;241m=\u001b[39m\u001b[38;5;124m'\u001b[39m\u001b[38;5;124mOntario employment (x 1,000)\u001b[39m\u001b[38;5;124m'\u001b[39m,\n\u001b[0;32m   (...)\u001b[0m\n\u001b[1;32m     18\u001b[0m                   hovermode\u001b[38;5;241m=\u001b[39m\u001b[38;5;124m'\u001b[39m\u001b[38;5;124mx\u001b[39m\u001b[38;5;124m'\u001b[39m,\n\u001b[1;32m     19\u001b[0m                   template\u001b[38;5;241m=\u001b[39m\u001b[38;5;124m'\u001b[39m\u001b[38;5;124mplotly_white\u001b[39m\u001b[38;5;124m'\u001b[39m)\n\u001b[1;32m     21\u001b[0m \u001b[38;5;66;03m# Show the interactive graph\u001b[39;00m\n\u001b[0;32m---> 22\u001b[0m \u001b[43mfig\u001b[49m\u001b[38;5;241;43m.\u001b[39;49m\u001b[43mshow\u001b[49m\u001b[43m(\u001b[49m\u001b[43m)\u001b[49m\n",
            "File \u001b[0;32m~/Library/Python/3.9/lib/python/site-packages/plotly/basedatatypes.py:3410\u001b[0m, in \u001b[0;36mBaseFigure.show\u001b[0;34m(self, *args, **kwargs)\u001b[0m\n\u001b[1;32m   3377\u001b[0m \u001b[38;5;250m\u001b[39m\u001b[38;5;124;03m\"\"\"\u001b[39;00m\n\u001b[1;32m   3378\u001b[0m \u001b[38;5;124;03mShow a figure using either the default renderer(s) or the renderer(s)\u001b[39;00m\n\u001b[1;32m   3379\u001b[0m \u001b[38;5;124;03mspecified by the renderer argument\u001b[39;00m\n\u001b[0;32m   (...)\u001b[0m\n\u001b[1;32m   3406\u001b[0m \u001b[38;5;124;03mNone\u001b[39;00m\n\u001b[1;32m   3407\u001b[0m \u001b[38;5;124;03m\"\"\"\u001b[39;00m\n\u001b[1;32m   3408\u001b[0m \u001b[38;5;28;01mimport\u001b[39;00m \u001b[38;5;21;01mplotly\u001b[39;00m\u001b[38;5;21;01m.\u001b[39;00m\u001b[38;5;21;01mio\u001b[39;00m \u001b[38;5;28;01mas\u001b[39;00m \u001b[38;5;21;01mpio\u001b[39;00m\n\u001b[0;32m-> 3410\u001b[0m \u001b[38;5;28;01mreturn\u001b[39;00m \u001b[43mpio\u001b[49m\u001b[38;5;241;43m.\u001b[39;49m\u001b[43mshow\u001b[49m\u001b[43m(\u001b[49m\u001b[38;5;28;43mself\u001b[39;49m\u001b[43m,\u001b[49m\u001b[43m \u001b[49m\u001b[38;5;241;43m*\u001b[39;49m\u001b[43margs\u001b[49m\u001b[43m,\u001b[49m\u001b[43m \u001b[49m\u001b[38;5;241;43m*\u001b[39;49m\u001b[38;5;241;43m*\u001b[39;49m\u001b[43mkwargs\u001b[49m\u001b[43m)\u001b[49m\n",
            "File \u001b[0;32m~/Library/Python/3.9/lib/python/site-packages/plotly/io/_renderers.py:394\u001b[0m, in \u001b[0;36mshow\u001b[0;34m(fig, renderer, validate, **kwargs)\u001b[0m\n\u001b[1;32m    389\u001b[0m         \u001b[38;5;28;01mraise\u001b[39;00m \u001b[38;5;167;01mValueError\u001b[39;00m(\n\u001b[1;32m    390\u001b[0m             \u001b[38;5;124m\"\u001b[39m\u001b[38;5;124mMime type rendering requires ipython but it is not installed\u001b[39m\u001b[38;5;124m\"\u001b[39m\n\u001b[1;32m    391\u001b[0m         )\n\u001b[1;32m    393\u001b[0m     \u001b[38;5;28;01mif\u001b[39;00m \u001b[38;5;129;01mnot\u001b[39;00m nbformat \u001b[38;5;129;01mor\u001b[39;00m Version(nbformat\u001b[38;5;241m.\u001b[39m__version__) \u001b[38;5;241m<\u001b[39m Version(\u001b[38;5;124m\"\u001b[39m\u001b[38;5;124m4.2.0\u001b[39m\u001b[38;5;124m\"\u001b[39m):\n\u001b[0;32m--> 394\u001b[0m         \u001b[38;5;28;01mraise\u001b[39;00m \u001b[38;5;167;01mValueError\u001b[39;00m(\n\u001b[1;32m    395\u001b[0m             \u001b[38;5;124m\"\u001b[39m\u001b[38;5;124mMime type rendering requires nbformat>=4.2.0 but it is not installed\u001b[39m\u001b[38;5;124m\"\u001b[39m\n\u001b[1;32m    396\u001b[0m         )\n\u001b[1;32m    398\u001b[0m     ipython_display\u001b[38;5;241m.\u001b[39mdisplay(bundle, raw\u001b[38;5;241m=\u001b[39m\u001b[38;5;28;01mTrue\u001b[39;00m)\n\u001b[1;32m    400\u001b[0m \u001b[38;5;66;03m# external renderers\u001b[39;00m\n",
            "\u001b[0;31mValueError\u001b[0m: Mime type rendering requires nbformat>=4.2.0 but it is not installed"
          ]
        }
      ],
      "source": [
        "# Create a DataFrame\n",
        "df = pd.DataFrame(df1)\n",
        "\n",
        "# Convert 'Date' column to datetime type\n",
        "df['Date'] = pd.to_datetime(df['Date'])\n",
        "\n",
        "# Create an interactive line plot using Plotly\n",
        "fig = go.Figure()\n",
        "\n",
        "fig.add_trace(go.Scatter(x=df['Date'], y=df['Ontario employment (x 1,000), seasonally adjusted'],\n",
        "                         mode='lines+markers', name='Ontario Employment (x 1,000)'))\n",
        "\n",
        "fig.update_layout(title='Ontario Employment Trend',\n",
        "                  xaxis_title='Date',\n",
        "                  yaxis_title='Ontario employment (x 1,000)',\n",
        "                  xaxis=dict(type='category'),\n",
        "                  yaxis=dict(title=dict(text='Ontario employment (x 1,000)')),\n",
        "                  hovermode='x',\n",
        "                  template='plotly_white')\n",
        "\n",
        "# Show the interactive graph\n",
        "fig.show()"
      ]
    },
    {
      "cell_type": "code",
      "execution_count": null,
      "metadata": {
        "colab": {
          "base_uri": "https://localhost:8080/"
        },
        "id": "XyZ_QU5D4OAo",
        "outputId": "ce27be13-1d77-40ef-f2b5-4a2ae39e60a6"
      },
      "outputs": [
        {
          "name": "stdout",
          "output_type": "stream",
          "text": [
            "Defaulting to user installation because normal site-packages is not writeable\n",
            "Collecting pystan==2.19.1.1\n",
            "  Using cached pystan-2.19.1.1.tar.gz (16.2 MB)\n",
            "  Preparing metadata (setup.py) ... \u001b[?25ldone\n",
            "\u001b[?25hCollecting Cython!=0.25.1,>=0.22 (from pystan==2.19.1.1)\n",
            "  Downloading Cython-3.0.10-py2.py3-none-any.whl.metadata (3.2 kB)\n",
            "Requirement already satisfied: numpy>=1.7 in /Users/yashpatel/Library/Python/3.9/lib/python/site-packages (from pystan==2.19.1.1) (1.26.3)\n",
            "Downloading Cython-3.0.10-py2.py3-none-any.whl (1.2 MB)\n",
            "\u001b[2K   \u001b[90m━━━━━━━━━━━━━━━━━━━━━━━━━━━━━━━━━━━━━━━━\u001b[0m \u001b[32m1.2/1.2 MB\u001b[0m \u001b[31m8.9 MB/s\u001b[0m eta \u001b[36m0:00:00\u001b[0ma \u001b[36m0:00:01\u001b[0m\n",
            "\u001b[?25hBuilding wheels for collected packages: pystan\n",
            "  Building wheel for pystan (setup.py) ... \u001b[?25lerror\n",
            "  \u001b[1;31merror\u001b[0m: \u001b[1msubprocess-exited-with-error\u001b[0m\n",
            "  \n",
            "  \u001b[31m×\u001b[0m \u001b[32mpython setup.py bdist_wheel\u001b[0m did not run successfully.\n",
            "  \u001b[31m│\u001b[0m exit code: \u001b[1;36m1\u001b[0m\n",
            "  \u001b[31m╰─>\u001b[0m \u001b[31m[1 lines of output]\u001b[0m\n",
            "  \u001b[31m   \u001b[0m Cython>=0.22 and NumPy are required.\n",
            "  \u001b[31m   \u001b[0m \u001b[31m[end of output]\u001b[0m\n",
            "  \n",
            "  \u001b[1;35mnote\u001b[0m: This error originates from a subprocess, and is likely not a problem with pip.\n",
            "\u001b[31m  ERROR: Failed building wheel for pystan\u001b[0m\u001b[31m\n",
            "\u001b[0m\u001b[?25h  Running setup.py clean for pystan\n",
            "Failed to build pystan\n",
            "\u001b[31mERROR: Could not build wheels for pystan, which is required to install pyproject.toml-based projects\u001b[0m\u001b[31m\n",
            "\u001b[0mDefaulting to user installation because normal site-packages is not writeable\n",
            "Collecting fbprophet\n",
            "  Using cached fbprophet-0.7.1.tar.gz (64 kB)\n",
            "  Preparing metadata (setup.py) ... \u001b[?25ldone\n",
            "\u001b[?25hCollecting Cython>=0.22 (from fbprophet)\n",
            "  Using cached Cython-3.0.10-py2.py3-none-any.whl.metadata (3.2 kB)\n",
            "Collecting cmdstanpy==0.9.5 (from fbprophet)\n",
            "  Using cached cmdstanpy-0.9.5-py3-none-any.whl.metadata (2.9 kB)\n",
            "Collecting pystan>=2.14 (from fbprophet)\n",
            "  Using cached pystan-3.9.0-py3-none-any.whl.metadata (3.7 kB)\n",
            "Requirement already satisfied: numpy>=1.15.4 in /Users/yashpatel/Library/Python/3.9/lib/python/site-packages (from fbprophet) (1.26.3)\n",
            "Requirement already satisfied: pandas>=1.0.4 in /Users/yashpatel/Library/Python/3.9/lib/python/site-packages (from fbprophet) (1.3.0)\n",
            "Requirement already satisfied: matplotlib>=2.0.0 in /Users/yashpatel/Library/Python/3.9/lib/python/site-packages (from fbprophet) (3.8.2)\n",
            "Collecting LunarCalendar>=0.0.9 (from fbprophet)\n",
            "  Using cached LunarCalendar-0.0.9-py2.py3-none-any.whl.metadata (6.3 kB)\n",
            "Collecting convertdate>=2.1.2 (from fbprophet)\n",
            "  Using cached convertdate-2.4.0-py3-none-any.whl.metadata (8.3 kB)\n",
            "Collecting holidays>=0.10.2 (from fbprophet)\n",
            "  Using cached holidays-0.45-py3-none-any.whl.metadata (22 kB)\n",
            "Collecting setuptools-git>=1.2 (from fbprophet)\n",
            "  Using cached setuptools_git-1.2-py2.py3-none-any.whl.metadata (5.8 kB)\n",
            "Requirement already satisfied: python-dateutil>=2.8.0 in /Users/yashpatel/Library/Python/3.9/lib/python/site-packages (from fbprophet) (2.8.2)\n",
            "Requirement already satisfied: tqdm>=4.36.1 in /Users/yashpatel/Library/Python/3.9/lib/python/site-packages (from fbprophet) (4.66.1)\n",
            "Collecting pymeeus<=1,>=0.3.13 (from convertdate>=2.1.2->fbprophet)\n",
            "  Using cached PyMeeus-0.5.12.tar.gz (5.8 MB)\n",
            "  Preparing metadata (setup.py) ... \u001b[?25ldone\n",
            "\u001b[?25hCollecting ephem>=3.7.5.3 (from LunarCalendar>=0.0.9->fbprophet)\n",
            "  Using cached ephem-4.1.5-cp39-cp39-macosx_11_0_arm64.whl.metadata (6.0 kB)\n",
            "Requirement already satisfied: pytz in /Users/yashpatel/Library/Python/3.9/lib/python/site-packages (from LunarCalendar>=0.0.9->fbprophet) (2023.3.post1)\n",
            "Requirement already satisfied: contourpy>=1.0.1 in /Users/yashpatel/Library/Python/3.9/lib/python/site-packages (from matplotlib>=2.0.0->fbprophet) (1.2.0)\n",
            "Requirement already satisfied: cycler>=0.10 in /Users/yashpatel/Library/Python/3.9/lib/python/site-packages (from matplotlib>=2.0.0->fbprophet) (0.12.1)\n",
            "Requirement already satisfied: fonttools>=4.22.0 in /Users/yashpatel/Library/Python/3.9/lib/python/site-packages (from matplotlib>=2.0.0->fbprophet) (4.47.0)\n",
            "Requirement already satisfied: kiwisolver>=1.3.1 in /Users/yashpatel/Library/Python/3.9/lib/python/site-packages (from matplotlib>=2.0.0->fbprophet) (1.4.5)\n",
            "Requirement already satisfied: packaging>=20.0 in /Users/yashpatel/Library/Python/3.9/lib/python/site-packages (from matplotlib>=2.0.0->fbprophet) (23.2)\n",
            "Requirement already satisfied: pillow>=8 in /Users/yashpatel/Library/Python/3.9/lib/python/site-packages (from matplotlib>=2.0.0->fbprophet) (10.2.0)\n",
            "Requirement already satisfied: pyparsing>=2.3.1 in /Users/yashpatel/Library/Python/3.9/lib/python/site-packages (from matplotlib>=2.0.0->fbprophet) (3.1.1)\n",
            "Requirement already satisfied: importlib-resources>=3.2.0 in /Users/yashpatel/Library/Python/3.9/lib/python/site-packages (from matplotlib>=2.0.0->fbprophet) (6.1.1)\n",
            "Collecting aiohttp<4.0,>=3.6 (from pystan>=2.14->fbprophet)\n",
            "  Using cached aiohttp-3.9.3-cp39-cp39-macosx_11_0_arm64.whl.metadata (7.4 kB)\n",
            "Collecting clikit<0.7,>=0.6 (from pystan>=2.14->fbprophet)\n",
            "  Using cached clikit-0.6.2-py2.py3-none-any.whl.metadata (1.6 kB)\n",
            "INFO: pip is looking at multiple versions of pystan to determine which version is compatible with other requirements. This could take a while.\n",
            "Collecting pystan>=2.14 (from fbprophet)\n",
            "  Using cached pystan-3.8.0-py3-none-any.whl.metadata (3.8 kB)\n",
            "  Using cached pystan-3.7.0-py3-none-any.whl.metadata (3.7 kB)\n",
            "  Using cached pystan-3.6.0-py3-none-any.whl.metadata (3.7 kB)\n",
            "  Using cached pystan-3.5.0-py3-none-any.whl.metadata (3.7 kB)\n",
            "  Using cached pystan-3.4.0-py3-none-any.whl.metadata (3.7 kB)\n",
            "  Using cached pystan-3.3.0-py3-none-any.whl.metadata (3.6 kB)\n",
            "  Using cached pystan-3.2.0-py3-none-any.whl.metadata (3.6 kB)\n",
            "INFO: pip is still looking at multiple versions of pystan to determine which version is compatible with other requirements. This could take a while.\n",
            "  Using cached pystan-3.1.1-py3-none-any.whl.metadata (3.6 kB)\n",
            "  Using cached pystan-3.1.0-py3-none-any.whl.metadata (3.6 kB)\n",
            "  Using cached pystan-3.0.2-py3-none-any.whl.metadata (3.6 kB)\n",
            "  Using cached pystan-3.0.1-py3-none-any.whl.metadata (3.6 kB)\n",
            "  Using cached pystan-3.0.0-py3-none-any.whl.metadata (3.6 kB)\n",
            "INFO: This is taking longer than usual. You might need to provide the dependency resolver with stricter constraints to reduce runtime. See https://pip.pypa.io/warnings/backtracking for guidance. If you want to abort this run, press Ctrl + C.\n",
            "  Using cached pystan-2.19.1.1.tar.gz (16.2 MB)\n",
            "  Preparing metadata (setup.py) ... \u001b[?25ldone\n",
            "\u001b[?25hRequirement already satisfied: six>=1.5 in /Users/yashpatel/Library/Python/3.9/lib/python/site-packages (from python-dateutil>=2.8.0->fbprophet) (1.16.0)\n",
            "Requirement already satisfied: zipp>=3.1.0 in /Users/yashpatel/Library/Python/3.9/lib/python/site-packages (from importlib-resources>=3.2.0->matplotlib>=2.0.0->fbprophet) (3.17.0)\n",
            "Downloading cmdstanpy-0.9.5-py3-none-any.whl (37 kB)\n",
            "Downloading convertdate-2.4.0-py3-none-any.whl (47 kB)\n",
            "\u001b[2K   \u001b[90m━━━━━━━━━━━━━━━━━━━━━━━━━━━━━━━━━━━━━━━━\u001b[0m \u001b[32m47.9/47.9 kB\u001b[0m \u001b[31m4.4 MB/s\u001b[0m eta \u001b[36m0:00:00\u001b[0m\n",
            "\u001b[?25hUsing cached Cython-3.0.10-py2.py3-none-any.whl (1.2 MB)\n",
            "Downloading holidays-0.45-py3-none-any.whl (932 kB)\n",
            "\u001b[2K   \u001b[90m━━━━━━━━━━━━━━━━━━━━━━━━━━━━━━━━━━━━━━━━\u001b[0m \u001b[32m932.4/932.4 kB\u001b[0m \u001b[31m10.2 MB/s\u001b[0m eta \u001b[36m0:00:00\u001b[0ma \u001b[36m0:00:01\u001b[0m\n",
            "\u001b[?25hDownloading LunarCalendar-0.0.9-py2.py3-none-any.whl (18 kB)\n",
            "Downloading setuptools_git-1.2-py2.py3-none-any.whl (10 kB)\n",
            "Downloading ephem-4.1.5-cp39-cp39-macosx_11_0_arm64.whl (1.4 MB)\n",
            "\u001b[2K   \u001b[90m━━━━━━━━━━━━━━━━━━━━━━━━━━━━━━━━━━━━━━━━\u001b[0m \u001b[32m1.4/1.4 MB\u001b[0m \u001b[31m14.5 MB/s\u001b[0m eta \u001b[36m0:00:00\u001b[0m \u001b[36m0:00:01\u001b[0mm\n",
            "\u001b[?25hBuilding wheels for collected packages: fbprophet, pystan, pymeeus\n",
            "  Building wheel for fbprophet (setup.py) ... \u001b[?25lerror\n",
            "  \u001b[1;31merror\u001b[0m: \u001b[1msubprocess-exited-with-error\u001b[0m\n",
            "  \n",
            "  \u001b[31m×\u001b[0m \u001b[32mpython setup.py bdist_wheel\u001b[0m did not run successfully.\n",
            "  \u001b[31m│\u001b[0m exit code: \u001b[1;36m1\u001b[0m\n",
            "  \u001b[31m╰─>\u001b[0m \u001b[31m[45 lines of output]\u001b[0m\n",
            "  \u001b[31m   \u001b[0m running bdist_wheel\n",
            "  \u001b[31m   \u001b[0m running build\n",
            "  \u001b[31m   \u001b[0m running build_py\n",
            "  \u001b[31m   \u001b[0m creating build\n",
            "  \u001b[31m   \u001b[0m creating build/lib\n",
            "  \u001b[31m   \u001b[0m creating build/lib/fbprophet\n",
            "  \u001b[31m   \u001b[0m creating build/lib/fbprophet/stan_model\n",
            "  \u001b[31m   \u001b[0m Traceback (most recent call last):\n",
            "  \u001b[31m   \u001b[0m   File \"<string>\", line 2, in <module>\n",
            "  \u001b[31m   \u001b[0m   File \"<pip-setuptools-caller>\", line 34, in <module>\n",
            "  \u001b[31m   \u001b[0m   File \"/private/var/folders/wd/6x_1crhx0p73w8lh721qnpjm0000gn/T/pip-install-e5z5jts_/fbprophet_55dec774563a4c2c9a240c0b057f4f44/setup.py\", line 122, in <module>\n",
            "  \u001b[31m   \u001b[0m     setup(\n",
            "  \u001b[31m   \u001b[0m   File \"/Library/Developer/CommandLineTools/Library/Frameworks/Python3.framework/Versions/3.9/lib/python3.9/site-packages/setuptools/__init__.py\", line 153, in setup\n",
            "  \u001b[31m   \u001b[0m     return distutils.core.setup(**attrs)\n",
            "  \u001b[31m   \u001b[0m   File \"/Library/Developer/CommandLineTools/Library/Frameworks/Python3.framework/Versions/3.9/lib/python3.9/distutils/core.py\", line 148, in setup\n",
            "  \u001b[31m   \u001b[0m     dist.run_commands()\n",
            "  \u001b[31m   \u001b[0m   File \"/Library/Developer/CommandLineTools/Library/Frameworks/Python3.framework/Versions/3.9/lib/python3.9/distutils/dist.py\", line 966, in run_commands\n",
            "  \u001b[31m   \u001b[0m     self.run_command(cmd)\n",
            "  \u001b[31m   \u001b[0m   File \"/Library/Developer/CommandLineTools/Library/Frameworks/Python3.framework/Versions/3.9/lib/python3.9/distutils/dist.py\", line 985, in run_command\n",
            "  \u001b[31m   \u001b[0m     cmd_obj.run()\n",
            "  \u001b[31m   \u001b[0m   File \"/Library/Developer/CommandLineTools/Library/Frameworks/Python3.framework/Versions/3.9/lib/python3.9/site-packages/wheel/bdist_wheel.py\", line 299, in run\n",
            "  \u001b[31m   \u001b[0m     self.run_command('build')\n",
            "  \u001b[31m   \u001b[0m   File \"/Library/Developer/CommandLineTools/Library/Frameworks/Python3.framework/Versions/3.9/lib/python3.9/distutils/cmd.py\", line 313, in run_command\n",
            "  \u001b[31m   \u001b[0m     self.distribution.run_command(command)\n",
            "  \u001b[31m   \u001b[0m   File \"/Library/Developer/CommandLineTools/Library/Frameworks/Python3.framework/Versions/3.9/lib/python3.9/distutils/dist.py\", line 985, in run_command\n",
            "  \u001b[31m   \u001b[0m     cmd_obj.run()\n",
            "  \u001b[31m   \u001b[0m   File \"/Library/Developer/CommandLineTools/Library/Frameworks/Python3.framework/Versions/3.9/lib/python3.9/distutils/command/build.py\", line 135, in run\n",
            "  \u001b[31m   \u001b[0m     self.run_command(cmd_name)\n",
            "  \u001b[31m   \u001b[0m   File \"/Library/Developer/CommandLineTools/Library/Frameworks/Python3.framework/Versions/3.9/lib/python3.9/distutils/cmd.py\", line 313, in run_command\n",
            "  \u001b[31m   \u001b[0m     self.distribution.run_command(command)\n",
            "  \u001b[31m   \u001b[0m   File \"/Library/Developer/CommandLineTools/Library/Frameworks/Python3.framework/Versions/3.9/lib/python3.9/distutils/dist.py\", line 985, in run_command\n",
            "  \u001b[31m   \u001b[0m     cmd_obj.run()\n",
            "  \u001b[31m   \u001b[0m   File \"/private/var/folders/wd/6x_1crhx0p73w8lh721qnpjm0000gn/T/pip-install-e5z5jts_/fbprophet_55dec774563a4c2c9a240c0b057f4f44/setup.py\", line 48, in run\n",
            "  \u001b[31m   \u001b[0m     build_models(target_dir)\n",
            "  \u001b[31m   \u001b[0m   File \"/private/var/folders/wd/6x_1crhx0p73w8lh721qnpjm0000gn/T/pip-install-e5z5jts_/fbprophet_55dec774563a4c2c9a240c0b057f4f44/setup.py\", line 36, in build_models\n",
            "  \u001b[31m   \u001b[0m     from fbprophet.models import StanBackendEnum\n",
            "  \u001b[31m   \u001b[0m   File \"/private/var/folders/wd/6x_1crhx0p73w8lh721qnpjm0000gn/T/pip-install-e5z5jts_/fbprophet_55dec774563a4c2c9a240c0b057f4f44/fbprophet/__init__.py\", line 8, in <module>\n",
            "  \u001b[31m   \u001b[0m     from fbprophet.forecaster import Prophet\n",
            "  \u001b[31m   \u001b[0m   File \"/private/var/folders/wd/6x_1crhx0p73w8lh721qnpjm0000gn/T/pip-install-e5z5jts_/fbprophet_55dec774563a4c2c9a240c0b057f4f44/fbprophet/forecaster.py\", line 17, in <module>\n",
            "  \u001b[31m   \u001b[0m     from fbprophet.make_holidays import get_holiday_names, make_holidays_df\n",
            "  \u001b[31m   \u001b[0m   File \"/private/var/folders/wd/6x_1crhx0p73w8lh721qnpjm0000gn/T/pip-install-e5z5jts_/fbprophet_55dec774563a4c2c9a240c0b057f4f44/fbprophet/make_holidays.py\", line 14, in <module>\n",
            "  \u001b[31m   \u001b[0m     import fbprophet.hdays as hdays_part2\n",
            "  \u001b[31m   \u001b[0m   File \"/private/var/folders/wd/6x_1crhx0p73w8lh721qnpjm0000gn/T/pip-install-e5z5jts_/fbprophet_55dec774563a4c2c9a240c0b057f4f44/fbprophet/hdays.py\", line 13, in <module>\n",
            "  \u001b[31m   \u001b[0m     from convertdate.islamic import from_gregorian, to_gregorian\n",
            "  \u001b[31m   \u001b[0m ModuleNotFoundError: No module named 'convertdate'\n",
            "  \u001b[31m   \u001b[0m \u001b[31m[end of output]\u001b[0m\n",
            "  \n",
            "  \u001b[1;35mnote\u001b[0m: This error originates from a subprocess, and is likely not a problem with pip.\n",
            "\u001b[31m  ERROR: Failed building wheel for fbprophet\u001b[0m\u001b[31m\n",
            "\u001b[0m\u001b[?25h  Running setup.py clean for fbprophet\n",
            "  Building wheel for pystan (setup.py) ... \u001b[?25lerror\n",
            "  \u001b[1;31merror\u001b[0m: \u001b[1msubprocess-exited-with-error\u001b[0m\n",
            "  \n",
            "  \u001b[31m×\u001b[0m \u001b[32mpython setup.py bdist_wheel\u001b[0m did not run successfully.\n",
            "  \u001b[31m│\u001b[0m exit code: \u001b[1;36m1\u001b[0m\n",
            "  \u001b[31m╰─>\u001b[0m \u001b[31m[1 lines of output]\u001b[0m\n",
            "  \u001b[31m   \u001b[0m Cython>=0.22 and NumPy are required.\n",
            "  \u001b[31m   \u001b[0m \u001b[31m[end of output]\u001b[0m\n",
            "  \n",
            "  \u001b[1;35mnote\u001b[0m: This error originates from a subprocess, and is likely not a problem with pip.\n",
            "\u001b[31m  ERROR: Failed building wheel for pystan\u001b[0m\u001b[31m\n",
            "\u001b[0m\u001b[?25h  Running setup.py clean for pystan\n",
            "  Building wheel for pymeeus (setup.py) ... \u001b[?25ldone\n",
            "\u001b[?25h  Created wheel for pymeeus: filename=PyMeeus-0.5.12-py3-none-any.whl size=732018 sha256=eea693008d24ab7d63f4ab4dcf325fd80002d176f6c3e17ca0b9450407880605\n",
            "  Stored in directory: /Users/yashpatel/Library/Caches/pip/wheels/04/1f/e5/8dd0c661cd8d252817655dc14a84f7ae045d6616594145aa81\n",
            "Successfully built pymeeus\n",
            "Failed to build fbprophet pystan\n",
            "\u001b[31mERROR: Could not build wheels for fbprophet, pystan, which is required to install pyproject.toml-based projects\u001b[0m\u001b[31m\n",
            "\u001b[0m"
          ]
        }
      ],
      "source": [
        "!pip install pystan==2.19.1.1\n",
        "!pip install fbprophet\n"
      ]
    },
    {
      "cell_type": "code",
      "execution_count": null,
      "metadata": {
        "colab": {
          "base_uri": "https://localhost:8080/",
          "height": 1000
        },
        "id": "B-a97vsHDeR2",
        "outputId": "6eae25a4-90e2-47b2-f086-9f982bc2c26c"
      },
      "outputs": [],
      "source": [
        "import statsmodels.api as sm\n",
        "df = pd.DataFrame(df1)\n",
        "# Convert 'Date' column to datetime type\n",
        "# Convert 'Date' column to datetime type\n",
        "df['Date'] = pd.to_datetime(df['Date'])\n",
        "\n",
        "# Set 'Date' column as the index\n",
        "df.set_index('Date', inplace=True)\n",
        "\n",
        "# Manually set the frequency to monthly (M)\n",
        "df.index = pd.date_range(start=df.index[0], periods=len(df), freq='M')\n",
        "\n",
        "# Plot the original data\n",
        "plt.figure(figsize=(10, 6))\n",
        "plt.plot(df.index, df['Ontario employment (x 1,000), seasonally adjusted'], label='Actual Data', color='blue')\n",
        "plt.xlabel('Date')\n",
        "plt.ylabel('Ontario Employment (x 1,000)')\n",
        "plt.title('Ontario Employment Time Series')\n",
        "plt.legend()\n",
        "plt.show()\n",
        "\n",
        "# Seasonal Decomposition\n",
        "decomposition = sm.tsa.seasonal_decompose(df['Ontario employment (x 1,000), seasonally adjusted'], model='additive')\n",
        "\n",
        "# Trend, Seasonal, and Residual components\n",
        "trend = decomposition.trend\n",
        "seasonal = decomposition.seasonal\n",
        "residual = decomposition.resid\n",
        "\n",
        "# Plot components\n",
        "plt.figure(figsize=(10, 8))\n",
        "plt.subplot(411)\n",
        "plt.plot(df.index, df['Ontario employment (x 1,000), seasonally adjusted'], label='Actual Data', color='blue')\n",
        "plt.legend()\n",
        "plt.subplot(412)\n",
        "plt.plot(df.index, trend, label='Trend', color='red')\n",
        "plt.legend()\n",
        "plt.subplot(413)\n",
        "plt.plot(df.index, seasonal, label='Seasonal', color='green')\n",
        "plt.legend()\n",
        "plt.subplot(414)\n",
        "plt.plot(df.index, residual, label='Residual', color='orange')\n",
        "plt.legend()\n",
        "plt.tight_layout()\n",
        "plt.show()"
      ]
    },
    {
      "cell_type": "code",
      "execution_count": null,
      "metadata": {
        "colab": {
          "base_uri": "https://localhost:8080/",
          "height": 1000
        },
        "id": "x5Xh8r9NEqYU",
        "outputId": "26f42f7e-ee66-477f-f86e-0d62ba268728"
      },
      "outputs": [],
      "source": [
        "df = pd.DataFrame(df1)\n",
        "# Convert 'Date' column to datetime type\n",
        "df['Date'] = pd.to_datetime(df['Date'])\n",
        "\n",
        "# Set 'Date' column as the index\n",
        "df.set_index('Date', inplace=True)\n",
        "\n",
        "# Manually set the frequency to monthly (M)\n",
        "df.index = pd.date_range(start=df.index[0], periods=len(df), freq='M')\n",
        "\n",
        "# Plot the original data\n",
        "plt.figure(figsize=(10, 6))\n",
        "plt.plot(df.index, df['Ontario employment (x 1,000), seasonally adjusted'], label='Actual Data', color='blue')\n",
        "plt.xlabel('Date')\n",
        "plt.ylabel('Ontario Employment (x 1,000)')\n",
        "plt.title('Ontario Employment Time Series')\n",
        "plt.legend()\n",
        "plt.show()\n",
        "\n",
        "# Fit ARIMA model to the data\n",
        "model = sm.tsa.ARIMA(df['Ontario employment (x 1,000), seasonally adjusted'], order=(1, 1, 1))\n",
        "results = model.fit()\n",
        "\n",
        "# Make predictions for future dates (e.g., next 6 months)\n",
        "future_dates = pd.date_range(start=df.index[-1], periods=6, freq='M')\n",
        "forecast = results.forecast(steps=6)\n",
        "\n",
        "# Create a DataFrame for the predictions\n",
        "predictions = pd.DataFrame({'Forecast': forecast}, index=future_dates)\n",
        "\n",
        "# Plot the predictions\n",
        "plt.figure(figsize=(10, 6))\n",
        "plt.plot(df.index, df['Ontario employment (x 1,000), seasonally adjusted'], label='Actual Data', color='blue')\n",
        "plt.plot(predictions.index, predictions['Forecast'], label='Forecast', color='red')\n",
        "plt.xlabel('Date')\n",
        "plt.ylabel('Ontario Employment (x 1,000)')\n",
        "plt.title('Ontario Employment Forecast')\n",
        "plt.legend()\n",
        "plt.show()\n",
        "\n",
        "# Display the forecasted values\n",
        "print(predictions)"
      ]
    },
    {
      "cell_type": "code",
      "execution_count": null,
      "metadata": {
        "colab": {
          "base_uri": "https://localhost:8080/",
          "height": 790
        },
        "id": "5BIoamDTFjST",
        "outputId": "60be1ec9-8802-4712-943f-c369d305ed17"
      },
      "outputs": [],
      "source": [
        "# Create a DataFrame\n",
        "df = pd.DataFrame(df1)\n",
        "\n",
        "# Convert 'Date' column to datetime type\n",
        "df['Date'] = pd.to_datetime(df['Date'])\n",
        "\n",
        "# Set 'Date' column as the index\n",
        "df.set_index('Date', inplace=True)\n",
        "\n",
        "# Manually set the frequency to monthly (M)\n",
        "df.index = pd.date_range(start=df.index[0], periods=len(df), freq='M')\n",
        "\n",
        "# Fit ARIMA model to the data\n",
        "model = sm.tsa.ARIMA(df['Ontario employment (x 1,000), seasonally adjusted'], order=(1, 1, 1))\n",
        "results = model.fit()\n",
        "\n",
        "# Make predictions for future dates (e.g., until the year 2025)\n",
        "future_dates = pd.date_range(start=df.index[-1], periods=12, freq='M')\n",
        "forecast = results.forecast(steps=36)\n",
        "\n",
        "# Create a DataFrame for the predictions\n",
        "predictions = pd.DataFrame({'Forecast': forecast}, index=future_dates)\n",
        "\n",
        "# Filter data and predictions from 2018 onwards\n",
        "start_date = '2018-01-01'\n",
        "filtered_df = df[df.index >= start_date]\n",
        "filtered_predictions = predictions[predictions.index >= start_date]\n",
        "\n",
        "# Plot the data and predictions\n",
        "plt.figure(figsize=(10, 6))\n",
        "plt.plot(filtered_df.index, filtered_df['Ontario employment (x 1,000), seasonally adjusted'], label='Actual Data', color='blue')\n",
        "plt.plot(filtered_predictions.index, filtered_predictions['Forecast'], label='Forecast', color='red')\n",
        "plt.xlabel('Date')\n",
        "plt.ylabel('Ontario Employment (x 1,000)')\n",
        "plt.title('Ontario Employment Forecast (from 2018 onwards)')\n",
        "plt.legend()\n",
        "plt.show()\n",
        "\n",
        "# Display the forecasted values until 2025\n",
        "print(filtered_predictions)"
      ]
    },
    {
      "cell_type": "markdown",
      "metadata": {
        "id": "fYOQGJa1yi8M"
      },
      "source": [
        "###Employment in Ontario increased in June by 55,800 (0.7%) to 7,951,300, after decreasing by 23,900 (−0.3%) in May. Provincial employment has been on an upward trend in recent months, with job gains totalling 236,400 since September 2022.\n",
        "\n",
        "###Employment in Canada increased in June by 59,900 (0.3%), after decreasing by 17,300 (−0.1%) in May. A total of 20,172,800 people were employed in Canada in June."
      ]
    },
    {
      "cell_type": "code",
      "execution_count": null,
      "metadata": {
        "colab": {
          "base_uri": "https://localhost:8080/",
          "height": 379
        },
        "id": "QSqCMHOgUKxp",
        "outputId": "43964228-457c-4c88-d215-70ec7069f43a"
      },
      "outputs": [],
      "source": [
        "df2.info()\n",
        "df2.head()\n"
      ]
    },
    {
      "cell_type": "code",
      "execution_count": null,
      "metadata": {
        "colab": {
          "base_uri": "https://localhost:8080/",
          "height": 737
        },
        "id": "wMxEB2HSrIED",
        "outputId": "7f545f6a-d4dd-4444-a558-6f1256fba874"
      },
      "outputs": [],
      "source": [
        "# Create a scatter plot using plotly express\n",
        "scatter_fig = px.scatter(df, x='Month', y=' Employment, Ontario (000)', color='SIC',\n",
        "                         labels={' Employment, Ontario (000)': 'Employment (in thousands)'},\n",
        "                        # category_orders={'Month': ['Jan', 'Feb', 'Mar','Apr']},\n",
        "                         width=1200, height=700)\n",
        "\n",
        "# Create a line plot using plotly express\n",
        "line_fig = px.line(df, x='Month', y=' Employment, Ontario (000)', color='SIC',\n",
        "                   labels={' Employment, Ontario (000)': 'Employment (in thousands)'},\n",
        "                 # category_orders={'Month': ['Jan', 'Feb', 'Mar', 'Apr']},\n",
        "                   width=1200, height=700)\n",
        "\n",
        "# Combine both plots into one figure\n",
        "combined_fig = scatter_fig.add_traces(line_fig.data)\n",
        "\n",
        "# Show the combined interactive plot\n",
        "combined_fig.show()"
      ]
    },
    {
      "cell_type": "code",
      "execution_count": null,
      "metadata": {
        "colab": {
          "base_uri": "https://localhost:8080/",
          "height": 1000
        },
        "id": "wpjHrzxItI7p",
        "outputId": "673b3b75-bc8f-4353-cba6-7a155cc3e464"
      },
      "outputs": [],
      "source": [
        "\n",
        "df = pd.DataFrame(df2)\n",
        "# Remove specific SIC categories\n",
        "excluded_sics = ['Total employed, all industries', 'Services-producing sector','Goods-producing sector']\n",
        "df = df[~df['SIC'].isin(excluded_sics)]\n",
        "\n",
        "# Calculate the trend (slope) for each SIC category\n",
        "trends = df.groupby('SIC').apply(lambda group: np.polyfit(range(len(group)), group[' Employment, Ontario (000)'], 1)[0])\n",
        "\n",
        "# Create a scatter plot using plotly express\n",
        "fig = px.scatter(df, x='Month', y=' Employment, Ontario (000)', color='SIC',\n",
        "                 labels={'Employment, Ontario (000)': 'Employment (in thousands)'},\n",
        "                 category_orders={'Month': ['Jan', 'Feb', 'Mar']},\n",
        "                 width=1200, height=1000)\n",
        "\n",
        "# Add annotations for each SIC category to show trend direction\n",
        "for sic, trend in trends.items():\n",
        "    trend_direction = 'Upward Trend' if trend > 0 else 'Downward Trend'\n",
        "    y_pos = df[df['SIC'] == sic][' Employment, Ontario (000)'].max() + 10\n",
        "    fig.add_annotation(\n",
        "        x='Feb', y=y_pos,\n",
        "        text=trend_direction, showarrow=False\n",
        "    )\n",
        "\n",
        "# Show the interactive plot\n",
        "fig.show()"
      ]
    },
    {
      "cell_type": "markdown",
      "metadata": {
        "id": "NiPh3EJusJzT"
      },
      "source": [
        "###Ontario’s largest industry groups by employment in June were wholesale and retail trade (1,137,500 or 14.3% of total employment), health care and social assistance (966,900 or 12.2%), professional, manufacturing (819,900 or 10.3%), scientific and technical services (810,000 or 10.2%) and finance, insurance, real estate, rental and leasing (693,200 or 8.7%).\n",
        "\n",
        "###Ten of the sixteen major industry groups recorded job gains in June. Wholesale and retail trade (11,900 or 1.1%), transportation and warehousing (9,700 or 2.5%), manufacturing (7,300 or 0.9%) and professional, scientific and technical services (6,700 or 0.8%) led job gains.\n",
        "\n",
        "###Employment losses occurred in accommodation and food services (−2,700 or −0.6%), educational services (−2,300 or −0.4%), construction (−1,800 or −0.3%) and information, culture and recreation (−1,500 or −0.4%) in June.\n",
        "\n",
        "###Employment was unchanged in agriculture and utilities in June."
      ]
    },
    {
      "cell_type": "code",
      "execution_count": null,
      "metadata": {
        "colab": {
          "base_uri": "https://localhost:8080/",
          "height": 379
        },
        "id": "Qz5rbdoSUK_h",
        "outputId": "4ea4204f-0e4a-44c5-f3c9-415db4223c6c"
      },
      "outputs": [],
      "source": [
        "df3.info()\n",
        "df3.head()"
      ]
    },
    {
      "cell_type": "code",
      "execution_count": null,
      "metadata": {
        "colab": {
          "base_uri": "https://localhost:8080/",
          "height": 542
        },
        "id": "R21rEF6Uv97W",
        "outputId": "28851993-dd82-41fd-a109-c19878aced7d"
      },
      "outputs": [],
      "source": [
        "df = pd.DataFrame(df3)\n",
        "excluded_sics = ['Total, all occupations']\n",
        "df = df[~df['Broad occupational category'].isin(excluded_sics)]\n",
        "# Convert 'Employment, Ontario (000)' column to numeric\n",
        "df[' Employment, Ontario (000)'] = pd.to_numeric(df[' Employment, Ontario (000)'], errors='coerce')\n",
        "\n",
        "# Create the interactive bar chart using Plotly Express\n",
        "fig = px.line(df, x='Month', y=' Employment, Ontario (000)', color='Broad occupational category',\n",
        "             labels={'Employment, Ontario (000)': 'Employment (000)', 'Broad occupational category': 'Category'})\n",
        "\n",
        "# Update the layout to add a title and rotate x-axis labels\n",
        "fig.update_layout(title='Employment Change in Ontario by Month and Occupational Category',\n",
        "                  xaxis_tickangle=-45)\n",
        "\n",
        "# Show the interactive plot\n",
        "fig.show()"
      ]
    },
    {
      "cell_type": "markdown",
      "metadata": {
        "id": "WVEb574LyyXc"
      },
      "source": [
        "###Ontario’s largest occupational groups by employment in June were sales and service (1,733,500 or 21.5% of total employment), business, finance and administration (1,368,700 or 17.0%), trades, transport and equipment operators (1,167,700 or 14.5%), occupations in education, law and social, community and government services (895,300 or 11.1%) and management (823,700 or 10.2%).\n",
        "\n",
        "###Seven of the ten major occupational groups in Ontario had net employment gains in the first six months of 2023 when compared to the same period in 2022. Management occupations (74,000 or 10.0%) led job gains, followed by trades, transport and equipment operators and related occupations (72,900 or 7.0%), occupations in art, culture, recreation and sport (24,700 or 12.1%) and occupations in education, law, social, community and government services (22,900 or 2.6%).\n",
        "\n",
        "###Employment losses were recorded in occupations in manufacturing and utilities (−20,600 or −5.4%), natural resources, agriculture and related production occupations (−9,200 or −10.7%), and natural and applied sciences and related occupations (−8,300 or −1.1%)."
      ]
    },
    {
      "cell_type": "code",
      "execution_count": null,
      "metadata": {
        "colab": {
          "base_uri": "https://localhost:8080/",
          "height": 379
        },
        "id": "Jq604T3zU2aB",
        "outputId": "dbb9a9cd-e8aa-47f2-d8af-483c1d243ec8"
      },
      "outputs": [],
      "source": [
        "df5.info()\n",
        "df5.head()"
      ]
    },
    {
      "cell_type": "code",
      "execution_count": null,
      "metadata": {
        "colab": {
          "base_uri": "https://localhost:8080/",
          "height": 542
        },
        "id": "gI4CaIQFwxRf",
        "outputId": "5a1fafdf-2118-464c-a2d4-c51547cf950e"
      },
      "outputs": [],
      "source": [
        "# Create a DataFrame\n",
        "df = pd.DataFrame(df5)\n",
        "\n",
        "# Convert 'Date' column to datetime type and handle errors with 'coerce'\n",
        "df['Date'] = pd.to_datetime(df['Date'], errors='coerce')\n",
        "\n",
        "# Drop rows with invalid dates (NaT)\n",
        "df = df.dropna(subset=['Date'])\n",
        "\n",
        "# Create an interactive line plot using plotly\n",
        "fig = go.Figure()\n",
        "\n",
        "# Add trace for Canada unemployment rate\n",
        "fig.add_trace(go.Scatter(x=df['Date'], y=df['Unemployment_rate_Canada'], mode='lines', name='Canada'))\n",
        "\n",
        "# Add trace for Ontario unemployment rate\n",
        "fig.add_trace(go.Scatter(x=df['Date'], y=df['Unemployment_rate_Ontario'], mode='lines', name='Ontario'))\n",
        "\n",
        "# Set layout for the graph\n",
        "fig.update_layout(\n",
        "    title='Unemployment Rates in Canada and Ontario',\n",
        "    xaxis_title='Date',\n",
        "    yaxis_title='Unemployment Rate (%)',\n",
        "    xaxis=dict(showline=True, showgrid=False),\n",
        "    yaxis=dict(showline=True, showgrid=False),\n",
        "    hovermode='x',  # Enable hover interactions\n",
        "    showlegend=True\n",
        ")\n",
        "\n",
        "# Show the interactive graph\n",
        "fig.show()"
      ]
    },
    {
      "cell_type": "markdown",
      "metadata": {
        "id": "g9ajji35y6SG"
      },
      "source": [
        "###Ontario’s unemployment rate increased to 5.7% in June from 5.5% in May, marking the second consecutive monthly increase after trending downward since November 2022.\n",
        "\n",
        "###June’s unemployment rate increased as employment gains were outpaced by gains in the labour force.\n",
        "\n",
        "###The Canadian unemployment rate rose to 5.4% in June from 5.2% in May"
      ]
    },
    {
      "cell_type": "code",
      "execution_count": null,
      "metadata": {
        "colab": {
          "base_uri": "https://localhost:8080/",
          "height": 379
        },
        "id": "CaN-cFXqULSp",
        "outputId": "c4eab340-7f98-40bd-ddd2-0960a12867cc"
      },
      "outputs": [],
      "source": [
        "df8.info()\n",
        "df8.head()"
      ]
    },
    {
      "cell_type": "code",
      "execution_count": 27,
      "metadata": {
        "colab": {
          "base_uri": "https://localhost:8080/",
          "height": 542
        },
        "id": "Wmf1O_awYdbe",
        "outputId": "5a56f4c2-f14b-4279-afa8-3f11dbba7507"
      },
      "outputs": [
        {
          "ename": "NameError",
          "evalue": "name 'px' is not defined",
          "output_type": "error",
          "traceback": [
            "\u001b[0;31m---------------------------------------------------------------------------\u001b[0m",
            "\u001b[0;31mNameError\u001b[0m                                 Traceback (most recent call last)",
            "Cell \u001b[0;32mIn[27], line 10\u001b[0m\n\u001b[1;32m      7\u001b[0m df[\u001b[38;5;124m'\u001b[39m\u001b[38;5;124mWage Change\u001b[39m\u001b[38;5;124m'\u001b[39m] \u001b[38;5;241m=\u001b[39m pd\u001b[38;5;241m.\u001b[39mto_numeric(df[\u001b[38;5;124m'\u001b[39m\u001b[38;5;124mWage Change\u001b[39m\u001b[38;5;124m'\u001b[39m]\u001b[38;5;241m.\u001b[39mstr\u001b[38;5;241m.\u001b[39mrstrip(\u001b[38;5;124m'\u001b[39m\u001b[38;5;124m%\u001b[39m\u001b[38;5;124m'\u001b[39m), errors\u001b[38;5;241m=\u001b[39m\u001b[38;5;124m'\u001b[39m\u001b[38;5;124mcoerce\u001b[39m\u001b[38;5;124m'\u001b[39m)\n\u001b[1;32m      9\u001b[0m \u001b[38;5;66;03m# Create the interactive line plot using Plotly\u001b[39;00m\n\u001b[0;32m---> 10\u001b[0m fig \u001b[38;5;241m=\u001b[39m \u001b[43mpx\u001b[49m\u001b[38;5;241m.\u001b[39mline(df, x\u001b[38;5;241m=\u001b[39m\u001b[38;5;124m'\u001b[39m\u001b[38;5;124mDate\u001b[39m\u001b[38;5;124m'\u001b[39m, y\u001b[38;5;241m=\u001b[39m[\u001b[38;5;124m'\u001b[39m\u001b[38;5;124mCPI Inflation\u001b[39m\u001b[38;5;124m'\u001b[39m, \u001b[38;5;124m'\u001b[39m\u001b[38;5;124mWage Change\u001b[39m\u001b[38;5;124m'\u001b[39m], title\u001b[38;5;241m=\u001b[39m\u001b[38;5;124m'\u001b[39m\u001b[38;5;124mCPI Inflation vs. Wage Change\u001b[39m\u001b[38;5;124m'\u001b[39m,\n\u001b[1;32m     11\u001b[0m               labels\u001b[38;5;241m=\u001b[39m{\u001b[38;5;124m'\u001b[39m\u001b[38;5;124mvalue\u001b[39m\u001b[38;5;124m'\u001b[39m: \u001b[38;5;124m'\u001b[39m\u001b[38;5;124mPercentage\u001b[39m\u001b[38;5;124m'\u001b[39m}, hover_name\u001b[38;5;241m=\u001b[39m\u001b[38;5;124m'\u001b[39m\u001b[38;5;124mDate\u001b[39m\u001b[38;5;124m'\u001b[39m, line_shape\u001b[38;5;241m=\u001b[39m\u001b[38;5;124m'\u001b[39m\u001b[38;5;124mlinear\u001b[39m\u001b[38;5;124m'\u001b[39m)\n\u001b[1;32m     13\u001b[0m \u001b[38;5;66;03m# Show the interactive plot\u001b[39;00m\n\u001b[1;32m     14\u001b[0m fig\u001b[38;5;241m.\u001b[39mshow()\n",
            "\u001b[0;31mNameError\u001b[0m: name 'px' is not defined"
          ]
        }
      ],
      "source": [
        "df = pd.DataFrame(df8)\n",
        "\n",
        "df['Date'] = pd.to_datetime(df['Date'])\n",
        "\n",
        "# Remove the percentage symbol and convert 'CPI Inflation' and 'Wage Change' to numeric\n",
        "df['CPI Inflation'] = pd.to_numeric(df['CPI Inflation'].str.rstrip('%'), errors='coerce')\n",
        "df['Wage Change'] = pd.to_numeric(df['Wage Change'].str.rstrip('%'), errors='coerce')\n",
        "\n",
        "# Create the interactive line plot using Plotly\n",
        "fig = px.line(df, x='Date', y=['CPI Inflation', 'Wage Change'], title='CPI Inflation vs. Wage Change',\n",
        "              labels={'value': 'Percentage'}, hover_name='Date', line_shape='linear')\n",
        "\n",
        "# Show the interactive plot\n",
        "fig.show()"
      ]
    },
    {
      "cell_type": "markdown",
      "metadata": {
        "id": "OOJVFFUgyY5L"
      },
      "source": [
        "###The average hourly wage rate in Ontario for employees was \\$34.02 in June, above the average rate across Canada (\\$33.12). Ontario’s average hourly wage rate in June rose by 3.7% on a year-over-year basis (by \\$1.22 from \\$32.80 in June 2022 and was below the 5.1% increase in May.\n",
        "\n",
        "###June’s wage growth (3.7%) was above the growth seen in the Ontario Consumer Price Index (CPI) as of May (3.1%). The CPI is a measure of inflation that represents changes in prices for goods and services as experienced by consumers."
      ]
    },
    {
      "cell_type": "code",
      "execution_count": null,
      "metadata": {
        "id": "RnZL9GuByYpk"
      },
      "outputs": [],
      "source": []
    }
  ],
  "metadata": {
    "colab": {
      "provenance": []
    },
    "kernelspec": {
      "display_name": "Python 3",
      "name": "python3"
    },
    "language_info": {
      "codemirror_mode": {
        "name": "ipython",
        "version": 3
      },
      "file_extension": ".py",
      "mimetype": "text/x-python",
      "name": "python",
      "nbconvert_exporter": "python",
      "pygments_lexer": "ipython3",
      "version": "3.9.6"
    }
  },
  "nbformat": 4,
  "nbformat_minor": 0
}
